{
 "cells": [
  {
   "cell_type": "code",
   "execution_count": 1,
   "metadata": {},
   "outputs": [],
   "source": [
    "# Import required modules\n",
    "import numpy as np\n",
    "import pandas as pd\n",
    "import seaborn as sns\n",
    "import shapefile as shp\n",
    "import matplotlib.pyplot as plt"
   ]
  },
  {
   "cell_type": "code",
   "execution_count": 2,
   "metadata": {},
   "outputs": [],
   "source": [
    "# Initialise visualisation set\n",
    "sns.set(style=\"whitegrid\", palette=\"pastel\", color_codes=True)\n",
    "sns.mpl.rc(\"figure\", figsize=(14, 10))"
   ]
  },
  {
   "cell_type": "code",
   "execution_count": 3,
   "metadata": {},
   "outputs": [
    {
     "data": {
      "text/plain": [
       "47"
      ]
     },
     "execution_count": 3,
     "metadata": {},
     "output_type": "execute_result"
    }
   ],
   "source": [
    "# Open the vector map\n",
    "shp_path = \"./data/County.shp\"\n",
    "sf = shp.Reader(shp_path)\n",
    "len(sf.shapes())"
   ]
  },
  {
   "cell_type": "code",
   "execution_count": 4,
   "metadata": {},
   "outputs": [
    {
     "data": {
      "text/plain": [
       "[Record #0: [1, 5.677, 15.047, 2.0, 1.0, 'Turkana', 15.0468376942, 5.67698507035],\n",
       " Record #1: [2, 6.177, 11.974, 3.0, 2.0, 'Marsabit', 11.9741649875, 6.1768307404],\n",
       " Record #2: [3, 2.117, 7.355, 4.0, 3.0, 'Mandera', 7.35515432979, 2.11719606749],\n",
       " Record #3: [4, 4.61, 9.838, 5.0, 4.0, 'Wajir', 9.83840789987, 4.60958923426],\n",
       " Record #4: [5, 0.74, 5.03, 6.0, 5.0, 'West Pokot', 5.03027088343, 0.740480579545],\n",
       " Record #5: [6, 1.713, 8.311, 7.0, 6.0, 'Samburu', 8.31101343379, 1.71301446473],\n",
       " Record #6: [7, 2.06, 10.181, 8.0, 7.0, 'Isiolo', 10.181410715, 2.05982040515],\n",
       " Record #7: [8, 0.877, 5.964, 9.0, 8.0, 'Baringo', 5.96426557677, 0.877177301723],\n",
       " Record #8: [9, 0.245, 4.064, 10.0, 9.0, 'Keiyo-Marakwet', 4.06352699188, 0.245207562504],\n",
       " Record #9: [10, 0.202, 2.387, 11.0, 10.0, 'Trans Nzoia', 2.38726517511, 0.201982889373],\n",
       " Record #10: [11, 0.246, 3.076, 12.0, 11.0, 'Bungoma', 3.0759439997, 0.245741265658],\n",
       " Record #11: [12, 3.642, 11.281, 13.0, 12.0, 'Garissa', 11.2811263395, 3.64182272198],\n",
       " Record #12: [13, 0.272, 3.718, 14.0, 13.0, 'Uasin Gishu', 3.71792249465, 0.27189420031],\n",
       " Record #13: [14, 0.243, 4.089, 15.0, 14.0, 'Kakamega', 4.08930960169, 0.242844312855],\n",
       " Record #14: [15, 0.787, 5.359, 16.0, 15.0, 'Laikipia', 5.35873822222, 0.786752643312],\n",
       " Record #15: [16, 0.148, 2.683, 17.0, 16.0, 'Busia', 2.68271150654, 0.147513635758],\n",
       " Record #16: [17, 0.561, 4.285, 18.0, 17.0, 'Meru', 4.28499228716, 0.560550057286],\n",
       " Record #17: [18, 0.233, 2.987, 19.0, 18.0, 'Nandi', 2.98688390509, 0.23317230662],\n",
       " Record #18: [19, 0.285, 2.925, 20.0, 19.0, 'Siaya', 2.92450556058, 0.285189281003],\n",
       " Record #19: [20, 0.605, 6.475, 21.0, 20.0, 'Nakuru', 6.47490410854, 0.604912925597],\n",
       " Record #20: [21, 0.045, 1.365, 22.0, 21.0, 'Vihiga', 1.36457628166, 0.0454278209232],\n",
       " Record #21: [22, 0.266, 3.588, 23.0, 22.0, 'Nyandarua', 3.58782123441, 0.265941756822],\n",
       " Record #22: [23, 0.217, 3.091, 24.0, 23.0, 'Tharaka', 3.09071650887, 0.216960053872],\n",
       " Record #23: [24, 0.171, 2.98, 25.0, 24.0, 'Kericho', 2.97981053749, 0.170723747999],\n",
       " Record #24: [25, 0.217, 3.115, 26.0, 25.0, 'Kisumu', 3.11522293593, 0.217291432661],\n",
       " Record #25: [26, 0.271, 3.05, 27.0, 26.0, 'Nyeri', 3.05034889397, 0.270857147091],\n",
       " Record #26: [27, 3.074, 11.603, 28.0, 27.0, 'Tana River', 11.6030806671, 3.07410718428],\n",
       " Record #27: [28, 2.483, 9.029, 29.0, 28.0, 'Kitui', 9.02866841404, 2.48347730827],\n",
       " Record #28: [29, 0.12, 1.875, 30.0, 29.0, 'Kirinyaga', 1.87454737159, 0.12000980204],\n",
       " Record #29: [30, 0.23, 3.339, 31.0, 30.0, 'Embu', 3.33914763874, 0.229667566971],\n",
       " Record #30: [31, 0.386, 3.41, 32.0, 31.0, 'Homa Bay', 3.41030275092, 0.386328876103],\n",
       " Record #31: [32, 0.229, 2.632, 33.0, 32.0, 'Bomet', 2.63165708177, 0.229037012363],\n",
       " Record #32: [33, 0.072, 1.505, 34.0, 33.0, 'Nyamira', 1.50487195499, 0.0718815759005],\n",
       " Record #33: [34, 1.454, 6.862, 35.0, 34.0, 'Narok', 6.86177032651, 1.45409050642],\n",
       " Record #34: [35, 0.106, 1.677, 36.0, 35.0, 'Kisii', 1.67694006104, 0.106043099234],\n",
       " Record #35: [36, 0.206, 2.537, 37.0, 36.0, \"Murang'a\", 2.53666178982, 0.20646153466],\n",
       " Record #36: [37, 0.257, 3.012, 38.0, 37.0, 'Migori', 3.01158957396, 0.257125785548],\n",
       " Record #37: [38, 0.209, 3.086, 39.0, 38.0, 'Kiambu', 3.0857207555, 0.209126217023],\n",
       " Record #38: [39, 0.506, 5.792, 40.0, 39.0, 'Machakos', 5.79203968486, 0.505506720813],\n",
       " Record #39: [40, 1.774, 7.28, 41.0, 40.0, 'Kajiado', 7.28036618863, 1.77400052129],\n",
       " Record #40: [41, 0.057, 1.616, 42.0, 41.0, 'Nairobi', 1.61581253576, 0.0572780179802],\n",
       " Record #41: [42, 0.649, 5.754, 43.0, 42.0, 'Makueni', 5.7537652544, 0.649311283833],\n",
       " Record #42: [43, 0.484, 7.49, 44.0, 43.0, 'Lamu', 11.2683090162, 0.501664666482],\n",
       " Record #43: [110, 1.016, 6.22, 111.0, 110.0, 'Kilifi', 6.85812271517, 1.01702112677],\n",
       " Record #44: [111, 1.396, 5.573, 112.0, 111.0, 'Taita Taveta', 5.57263939189, 1.39585381446],\n",
       " Record #45: [135, 0.67, 4.994, 136.0, 135.0, 'Kwale', 5.64662009322, 0.671356420748],\n",
       " Record #46: [141, 0.001, 0.177, 142.0, 141.0, 'Mombasa', 1.97902568463, 0.0184437204041]]"
      ]
     },
     "execution_count": 4,
     "metadata": {},
     "output_type": "execute_result"
    }
   ],
   "source": [
    "# Explore the shapefile\n",
    "sf.records()"
   ]
  },
  {
   "cell_type": "code",
   "execution_count": 5,
   "metadata": {},
   "outputs": [
    {
     "data": {
      "text/plain": [
       "'Turkana'"
      ]
     },
     "execution_count": 5,
     "metadata": {},
     "output_type": "execute_result"
    }
   ],
   "source": [
    "# Check one County\n",
    "sf.record(0)[5]"
   ]
  },
  {
   "cell_type": "code",
   "execution_count": 6,
   "metadata": {},
   "outputs": [],
   "source": [
    "# Function to Convert the shapefile to a Pandas DataFrame\n",
    "def read_shapefile(sf):\n",
    "    # Fetch the headers from the shapefile\n",
    "    fields = [x[0] for x in sf.fields][1:]\n",
    "    # Fetch the coords from the shapefile\n",
    "    records = [list(i) for i in sf.records()]\n",
    "    shps = [s.points for s in sf.shapes()]\n",
    "    # Create a DataFrame\n",
    "    df = pd.DataFrame(columns=fields, data=records)\n",
    "    # Add the coords to the DataFrame\n",
    "    df = df.assign(coords=shps)\n",
    "    return df"
   ]
  },
  {
   "cell_type": "code",
   "execution_count": 7,
   "metadata": {},
   "outputs": [
    {
     "data": {
      "text/plain": [
       "(47, 9)"
      ]
     },
     "execution_count": 7,
     "metadata": {},
     "output_type": "execute_result"
    }
   ],
   "source": [
    "# Read the shapefile\n",
    "df = read_shapefile(sf)\n",
    "df.shape"
   ]
  },
  {
   "cell_type": "code",
   "execution_count": null,
   "metadata": {},
   "outputs": [],
   "source": [
    "# Sample of the DataFrame\n",
    "df.head(46)"
   ]
  },
  {
   "cell_type": "code",
   "execution_count": null,
   "metadata": {},
   "outputs": [],
   "source": [
    "# Plot the shapefile with matplotlib\n",
    "def plot_shape(id, s=None):\n",
    "    plt.figure()\n",
    "    # Plot axes\n",
    "    ax = plt.axes()\n",
    "    ax.set_aspect('equal')\n",
    "    # Store id number to be used\n",
    "    shape_ex = sf.shape(id)\n",
    "    # Create arrays with 0 in place of each element - len(shape_ex.points) Rows and 1 Column\n",
    "    x_lon = np.zeros((len(shape_ex.points), 1)) # x-coordinates, longitude\n",
    "    # Create arrays with 0 in place of each element - len(shape_ex.points) Rows and 1 Column\n",
    "    y_lat = np.zeros((len(shape_ex.points), 1)) # y-coordinates, latitude\n",
    "    for  ip in range(len(shape_ex.points)):\n",
    "        x_lon[ip] = shape_ex.points[ip][0]\n",
    "        y_lat[ip] = shape_ex.points[ip][1]\n",
    "    # Plot the derived cordinates on the map\n",
    "    plt.plot(x_lon, y_lat)\n",
    "    x0 = np.mean(x_lon)\n",
    "    y0 = np.mean(y_lat)\n",
    "    plt.text(x0, y0, s, fontsize=10)\n",
    "    # Use bounding box to set plot limits\n",
    "    plt.xlim(shape_ex.bbox[0], shape_ex.bbox[2])\n",
    "    return x0, y0"
   ]
  },
  {
   "cell_type": "code",
   "execution_count": null,
   "metadata": {},
   "outputs": [],
   "source": [
    "# Enter the name of a county to plot\n",
    "county_name = df['COUNTY'][2]\n",
    "county_id = 2\n",
    "plot_shape(county_id, county_name)\n",
    "sf.shape(county_id)\n"
   ]
  },
  {
   "cell_type": "code",
   "execution_count": null,
   "metadata": {},
   "outputs": [],
   "source": [
    "# Plot the entire map using matplotlib\n",
    "def plot_map(sf, x_lim = None, y_lim = None, figsize = (20,15)):\n",
    "    plt.figure(figsize = figsize)\n",
    "    plt.title('Kenya - All Counties')\n",
    "    plt.ylabel('Latitude')\n",
    "    plt.xlabel('Longitude')\n",
    "    id=0\n",
    "    for shape in sf.shapeRecords():\n",
    "        x = [i[0] for i in shape.shape.points[:]]\n",
    "        y = [i[1] for i in shape.shape.points[:]]\n",
    "        plt.plot(x, y, 'k')\n",
    "\n",
    "        if (x_lim == None) & (y_lim == None):\n",
    "            x0 = np.mean(x)\n",
    "            y0 = np.mean(y)\n",
    "            plt.text(x0, y0, shape.record[5], fontsize=10)\n",
    "        id = id+1\n",
    "\n",
    "    if (x_lim != None) & (y_lim != None):\n",
    "        plt.xlim(x_lim)\n",
    "        plt.ylim(y_lim)"
   ]
  },
  {
   "cell_type": "code",
   "execution_count": null,
   "metadata": {},
   "outputs": [],
   "source": [
    "plot_map(sf)"
   ]
  },
  {
   "cell_type": "code",
   "execution_count": null,
   "metadata": {},
   "outputs": [],
   "source": [
    "# Plot A zoomed in map\n",
    "#x_lim = [35, 36]\n",
    "#y_lim = [1, 2]\n",
    "#plot_map(sf, x_lim, y_lim)"
   ]
  },
  {
   "cell_type": "code",
   "execution_count": null,
   "metadata": {},
   "outputs": [],
   "source": [
    "# Highlight a county in the map\n",
    "def plot_map_fill(id, sf, x_lim = None,\n",
    "                    y_lim = None,\n",
    "                    figsize = (11,9),\n",
    "                    color = 'r'):\n",
    "\n",
    "    plt.figure(figsize = figsize)\n",
    "    fig, ax = plt.subplots(figsize = figsize)\n",
    "    for shape in sf.shapeRecords():\n",
    "        x = [i[0] for i in shape.shape.points[:]]\n",
    "        y = [i[1] for i in shape.shape.points[:]]\n",
    "        ax.plot(x, y, 'k')\n",
    "\n",
    "    shape_ex = sf.shape(id)\n",
    "    x_lon = np.zeros((len(shape_ex.points),1))\n",
    "    y_lat = np.zeros((len(shape_ex.points),1))\n",
    "    for ip in range(len(shape_ex.points)):\n",
    "        x_lon[ip] = shape_ex.points[ip][0]\n",
    "        y_lat[ip] = shape_ex.points[ip][1]\n",
    "    ax.fill(x_lon,y_lat, color)\n",
    "\n",
    "    if (x_lim != None) & (y_lim != None):\n",
    "        plt.xlim(x_lim)\n",
    "        plt.ylim(y_lim)\n"
   ]
  },
  {
   "cell_type": "code",
   "execution_count": null,
   "metadata": {},
   "outputs": [],
   "source": [
    "#plot_map_fill(0, sf, x_lim, y_lim, color=’y’)\n",
    "plot_map_fill(12, sf, x_lim=None, y_lim=None, color='g')"
   ]
  },
  {
   "cell_type": "code",
   "execution_count": null,
   "metadata": {},
   "outputs": [],
   "source": [
    "def plot_map_fill_multiples_ids(title, county, sf,\n",
    "                                    x_lim = None,\n",
    "                                    y_lim = None,\n",
    "                                    figsize = (11,9),\n",
    "                                    color = 'r'):\n",
    "\n",
    "    plt.figure(figsize = figsize)\n",
    "    fig, ax = plt.subplots(figsize = figsize)\n",
    "    fig.suptitle(title, fontsize=16)\n",
    "    for shape in sf.shapeRecords():\n",
    "        x = [i[0] for i in shape.shape.points[:]]\n",
    "        y = [i[1] for i in shape.shape.points[:]]\n",
    "        ax.plot(x, y, 'k')\n",
    "    for id in county:\n",
    "        shape_ex = sf.shape(id)\n",
    "        x_lon = np.zeros((len(shape_ex.points),1))\n",
    "        y_lat = np.zeros((len(shape_ex.points),1))\n",
    "        for ip in range(len(shape_ex.points)):\n",
    "            x_lon[ip] = shape_ex.points[ip][0]\n",
    "            y_lat[ip] = shape_ex.points[ip][1]\n",
    "        ax.fill(x_lon,y_lat, color)\n",
    "        x0 = np.mean(x_lon)\n",
    "        y0 = np.mean(y_lat)\n",
    "        plt.text(x0, y0, id, fontsize=10)\n",
    "    if (x_lim != None) & (y_lim != None):\n",
    "        plt.xlim(x_lim)\n",
    "        plt.ylim(y_lim)"
   ]
  },
  {
   "cell_type": "code",
   "execution_count": null,
   "metadata": {},
   "outputs": [],
   "source": [
    "# Plot the map with multiple ids\n",
    "county_ids = [4,7,8,12,17,23,31]\n",
    "plot_map_fill_multiples_ids('Bedroom Ya Ankoo', county_ids, sf, x_lim=None, y_lim=None, color='y')"
   ]
  }
 ],
 "metadata": {
  "kernelspec": {
   "display_name": "Python 3.10.4 ('geograph')",
   "language": "python",
   "name": "python3"
  },
  "language_info": {
   "codemirror_mode": {
    "name": "ipython",
    "version": 3
   },
   "file_extension": ".py",
   "mimetype": "text/x-python",
   "name": "python",
   "nbconvert_exporter": "python",
   "pygments_lexer": "ipython3",
   "version": "3.10.4"
  },
  "orig_nbformat": 4,
  "vscode": {
   "interpreter": {
    "hash": "09df40076d9fada93d762d3abeb1875ba357daa42beaa096c652d3ef0fc60a71"
   }
  }
 },
 "nbformat": 4,
 "nbformat_minor": 2
}
